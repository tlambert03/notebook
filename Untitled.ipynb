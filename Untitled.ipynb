{
 "cells": [
  {
   "cell_type": "code",
   "execution_count": 1,
   "metadata": {},
   "outputs": [],
   "source": [
    "from gputools.deconv import deconv_rl\n",
    "import pycudadecon\n",
    "from skimage.io import imread\n",
    "import napari\n",
    "import numpy as np"
   ]
  },
  {
   "cell_type": "code",
   "execution_count": 2,
   "metadata": {},
   "outputs": [
    {
     "name": "stderr",
     "output_type": "stream",
     "text": [
      "/Users/talley/miniconda3/envs/all/lib/python3.7/site-packages/skimage/external/tifffile/tifffile.py:2133: UserWarning: tags are not ordered by code\n",
      "  warnings.warn(\"tags are not ordered by code\")\n"
     ]
    }
   ],
   "source": [
    "# img = imread('/Users/talley/Dropbox (HMS)/Python/decontest/img/deskewed.tif')\n",
    "# psf = imread('/Users/talley/Dropbox (HMS)/Python/forks/pyDecon/fixtures/3D Test Real Data/Real 3D PSF.tif')\n",
    "\n",
    "img = imread('/Users/talley/Dropbox (HMS)/Python/decontest/img/lattice/488_deskewed.tif')\n",
    "psf = imread('/Users/talley/Dropbox (HMS)/Python/decontest/img/lattice/488_psf.tif')\n",
    "\n",
    "diff = np.array(img.shape) - np.array(psf.shape)\n",
    "diff = tuple((int(x),) * 2 for x in np.ceil(diff/2))\n",
    "ppsf = np.pad(psf, diff, mode='constant', constant_values=psf.min())[tuple([slice(0,x) for x in img.shape])]\n"
   ]
  },
  {
   "cell_type": "code",
   "execution_count": 7,
   "metadata": {},
   "outputs": [
    {
     "name": "stdout",
     "output_type": "stream",
     "text": [
      "CPU times: user 427 ms, sys: 106 ms, total: 533 ms\n",
      "Wall time: 531 ms\n"
     ]
    }
   ],
   "source": [
    "n_iter = 10\n",
    "%time decon_cudad = pycudadecon.decon(img, psf, background=4, n_iters=n_iter)"
   ]
  },
  {
   "cell_type": "code",
   "execution_count": 14,
   "metadata": {},
   "outputs": [
    {
     "name": "stdout",
     "output_type": "stream",
     "text": [
      "CPU times: user 1.32 s, sys: 829 ms, total: 2.15 s\n",
      "Wall time: 4.82 s\n"
     ]
    }
   ],
   "source": [
    "%time decon_gput = deconv_rl(img, ppsf, Niter=10)"
   ]
  },
  {
   "cell_type": "code",
   "execution_count": 11,
   "metadata": {},
   "outputs": [],
   "source": [
    "with napari.gui_qt():\n",
    "    v = napari.view_image(decon_cudad, scale=[3,1,1], contrast_limits=[0,decon_cudad.max()*0.8], name='pycuda')\n",
    "    v.add_image(decon_gput, scale=[3,1,1], contrast_limits=[0,decon_gput.max()*0.8], name='gput')\n",
    "    v.add_image(img, scale=[3,1,1], contrast_limits=[0,img.max()*0.8], name='orig')"
   ]
  },
  {
   "cell_type": "code",
   "execution_count": 14,
   "metadata": {},
   "outputs": [
    {
     "data": {
      "text/plain": [
       "(90, 512, 600)"
      ]
     },
     "execution_count": 14,
     "metadata": {},
     "output_type": "execute_result"
    }
   ],
   "source": [
    "img.shape"
   ]
  },
  {
   "cell_type": "code",
   "execution_count": 55,
   "metadata": {},
   "outputs": [],
   "source": [
    "with napari.gui_qt():\n",
    "    napari.view_image(ppsf)"
   ]
  },
  {
   "cell_type": "code",
   "execution_count": null,
   "metadata": {},
   "outputs": [],
   "source": []
  }
 ],
 "metadata": {
  "kernelspec": {
   "display_name": "Python [conda env:all] *",
   "language": "python",
   "name": "conda-env-all-py"
  },
  "language_info": {
   "codemirror_mode": {
    "name": "ipython",
    "version": 3
   },
   "file_extension": ".py",
   "mimetype": "text/x-python",
   "name": "python",
   "nbconvert_exporter": "python",
   "pygments_lexer": "ipython3",
   "version": "3.7.3"
  }
 },
 "nbformat": 4,
 "nbformat_minor": 4
}
